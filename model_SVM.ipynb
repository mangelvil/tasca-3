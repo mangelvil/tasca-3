{
 "cells": [
  {
   "cell_type": "code",
   "execution_count": null,
   "metadata": {},
   "outputs": [],
   "source": [
    "# Preparació de les dades\n",
    "\n",
    "from sklearn import datasets\n",
    "import pandas as pd\n",
    "import numpy as np\n",
    "\n",
    "# Carreguem l'\"Iris flower dataset\"\n",
    "iris = datasets.load_iris()\n",
    "\n",
    "# Només volem l'amplada i longitud del pètal\n",
    "x = iris.data[:,[2,3]]\n",
    "\n",
    "# Les differents Iris\n",
    "# 0: Iris Setosa\n",
    "# 1: Iris Versicolour\n",
    "# 2: Iris Virginica\n",
    "y = iris.target\n",
    "\n",
    "# print('Class labels:',np.unique(y))\n",
    "# print(x)"
   ]
  },
  {
   "cell_type": "code",
   "execution_count": null,
   "metadata": {},
   "outputs": [],
   "source": [
    "# Separació en conjunts d'entrenament (70%) i test (30%)\n",
    "\n",
    "from sklearn.model_selection import train_test_split\n",
    "\n",
    "x_train, x_test, y_train, y_test = train_test_split(x,y,test_size = 0.3, random_state = 1, stratify = y)"
   ]
  },
  {
   "cell_type": "code",
   "execution_count": null,
   "metadata": {},
   "outputs": [],
   "source": [
    "# Normalització amb un escalat estàndard, mitjana a 0 i desviació típica a 1.\n",
    "\n",
    "from sklearn.preprocessing import StandardScaler\n",
    "\n",
    "sc = StandardScaler()\n",
    "sc.fit(x_train)\n",
    "x_train_std = sc.transform(x_train)\n",
    "x_test_std = sc.transform(x_test)\n",
    "\n",
    "# print(type(x_train_std))"
   ]
  },
  {
   "cell_type": "code",
   "execution_count": null,
   "metadata": {},
   "outputs": [],
   "source": [
    "# Convertim el ndarray a un DataFrame\n",
    "\n",
    "columnes = ['petal amplada', 'petal longitud']\n",
    "df = pd.DataFrame(x_train_std, columns=columnes)\n",
    "\n",
    "# print(df.T)"
   ]
  },
  {
   "cell_type": "code",
   "execution_count": null,
   "metadata": {},
   "outputs": [],
   "source": [
    "from sklearn.feature_extraction import DictVectorizer\n",
    "\n",
    "train_dict = df.to_dict(orient='records')\n",
    "# print(train_dict[0])\n",
    "\n",
    "dv = DictVectorizer(sparse=False)\n",
    "dv.fit(train_dict)  \n",
    "\n",
    "x_train_std = dv.transform(train_dict)\n",
    "# print(x_train_std.size)\n",
    "\n",
    "# dv.get_feature_names_out()"
   ]
  },
  {
   "cell_type": "code",
   "execution_count": null,
   "metadata": {},
   "outputs": [],
   "source": [
    "# SVM\n",
    "\n",
    "from sklearn.svm import SVC\n",
    "\n",
    "model = SVC(kernel='linear',C=1.0, random_state=1)\n",
    "\n",
    "model.fit(x_train, y_train)"
   ]
  },
  {
   "cell_type": "code",
   "execution_count": null,
   "metadata": {},
   "outputs": [],
   "source": [
    "# Serialitzam el model\n",
    "\n",
    "import pickle\n",
    "\n",
    "with open('models/svm.pck', 'wb') as f:\n",
    "    pickle.dump((dv, model), f) "
   ]
  },
  {
   "cell_type": "code",
   "execution_count": null,
   "metadata": {},
   "outputs": [],
   "source": [
    "# Check App\n",
    "\n",
    "!curl --request POST \"http://127.0.0.1:8000/svm\" \\\n",
    "--header \"Content-Type: application/json\" \\\n",
    "--data-raw \"{\\\n",
    "    \\\"petal amplada\\\": 1.4,\\\n",
    "    \\\"petal longitud\\\": 0.2\\\n",
    "}\""
   ]
  },
  {
   "cell_type": "code",
   "execution_count": null,
   "metadata": {},
   "outputs": [],
   "source": [
    "# Check App\n",
    "\n",
    "!curl --request POST \"http://127.0.0.1:8000/svm\" \\\n",
    "--header \"Content-Type: application/json\" \\\n",
    "--data-raw \"{\\\n",
    "    \\\"petal amplada\\\": 3.8,\\\n",
    "    \\\"petal longitud\\\": 1.1\\\n",
    "}\""
   ]
  },
  {
   "cell_type": "code",
   "execution_count": null,
   "metadata": {},
   "outputs": [],
   "source": [
    "# Check App\n",
    "\n",
    "!curl --request POST \"http://127.0.0.1:8000/svm\" \\\n",
    "--header \"Content-Type: application/json\" \\\n",
    "--data-raw \"{\\\n",
    "    \\\"petal amplada\\\": 5.7,\\\n",
    "    \\\"petal longitud\\\": 2.3\\\n",
    "}\""
   ]
  }
 ],
 "metadata": {
  "kernelspec": {
   "display_name": "Python 3 (ipykernel)",
   "language": "python",
   "name": "python3"
  },
  "language_info": {
   "codemirror_mode": {
    "name": "ipython",
    "version": 3
   },
   "file_extension": ".py",
   "mimetype": "text/x-python",
   "name": "python",
   "nbconvert_exporter": "python",
   "pygments_lexer": "ipython3",
   "version": "3.11.2"
  }
 },
 "nbformat": 4,
 "nbformat_minor": 2
}

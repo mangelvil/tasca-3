{
 "cells": [
  {
   "cell_type": "code",
   "execution_count": null,
   "metadata": {},
   "outputs": [],
   "source": [
    "# Preparació de les dades\n",
    "\n",
    "from sklearn import datasets\n",
    "import numpy as np\n",
    "\n",
    "iris = datasets.load_iris()\n",
    "\n",
    "X = iris.data[:,[2,3]]\n",
    "y = iris.target\n",
    "\n",
    "# 0: Iris Setosa\n",
    "# 1: Iris Versicolour\n",
    "# 2: Iris Virginica\n",
    "print('Class labels:',np.unique(y))"
   ]
  },
  {
   "cell_type": "code",
   "execution_count": null,
   "metadata": {},
   "outputs": [],
   "source": [
    "# Separació en conjunts d'entrenament (70%) i test (30%)\n",
    "\n",
    "from sklearn.model_selection import train_test_split\n",
    "\n",
    "X_train, X_test, y_train, y_test = train_test_split(X,y,test_size = 0.3, random_state = 1, stratify = y)"
   ]
  },
  {
   "cell_type": "code",
   "execution_count": null,
   "metadata": {},
   "outputs": [],
   "source": [
    "# Normalització amb un escalat estàndard, mitjana a 0 i desviació típica a 1.\n",
    "\n",
    "from sklearn.preprocessing import StandardScaler\n",
    "\n",
    "sc = StandardScaler()\n",
    "sc.fit(X_train)\n",
    "X_train_std = sc.transform(X_train)\n",
    "X_test_std = sc.transform(X_test)"
   ]
  },
  {
   "cell_type": "code",
   "execution_count": null,
   "metadata": {},
   "outputs": [],
   "source": [
    "# Funció que mostra els punts a les gràfiques\n",
    "\n",
    "from matplotlib.colors import ListedColormap\n",
    "import matplotlib.pyplot as plt\n",
    "\n",
    "def plot_decision_regions (X,y,classifier, test_idx=None,resolution=0.02):\n",
    "  markers =('s','^','o','x','v')\n",
    "  colors=('red','blue','lightgreen','gray','cyan')\n",
    "  cmap=ListedColormap(colors[:len(np.unique(y))])\n",
    "\n",
    "  #plot_decision_boundary\n",
    "\n",
    "  x1_min, x1_max = X[:,0].min()-1, X[:,0].max() + 1\n",
    "  x2_min, x2_max = X[:,1].min()-1, X[:,1].max() + 1\n",
    "  xx1,xx2=np.meshgrid(np.arange(x1_min,x1_max,resolution),\n",
    "                      np.arange(x2_min,x2_max,resolution))\n",
    "  Z = classifier.predict(np.array([xx1.ravel(), xx2.ravel()]).T)\n",
    "\n",
    "  Z = Z.reshape(xx1.shape)\n",
    "  plt.contourf(xx1,xx2, Z, alpha=0.3, cmap=cmap)\n",
    "  plt.xlim(xx1.min(),xx1.max())\n",
    "  plt.ylim(xx2.min(),xx2.max())\n",
    "\n",
    "  # mostram totes les dades\n",
    "  for idx, cl in enumerate(np.unique(y)):\n",
    "    plt.scatter(x=X[y==cl,0],y=X[y==cl,1],\n",
    "                alpha=0.8, c=colors[idx],\n",
    "                marker=markers[idx], label=cl,\n",
    "                edgecolor='black')\n",
    "\n",
    "  # destacam les dades de test\n",
    "  if test_idx:\n",
    "\n",
    "    X_test, y_test = X[test_idx, : ], y[test_idx]\n",
    "    plt.scatter(X_test[:,0], X_test[:,1],\n",
    "                  #c='',\n",
    "                  edgecolor='black', alpha=0.5,\n",
    "                  linewidth=1, marker='o',\n",
    "                  s=100, label = 'test set')"
   ]
  },
  {
   "cell_type": "code",
   "execution_count": null,
   "metadata": {},
   "outputs": [],
   "source": [
    "# Regressió logística\n",
    "\n",
    "from sklearn.linear_model import LogisticRegression\n",
    "\n",
    "lr = LogisticRegression(C=100.0,\n",
    "                        random_state = 1,\n",
    "                        solver = 'lbfgs',\n",
    "                        multi_class='ovr')\n",
    "lr.fit(X_train_std, y_train)\n",
    "\n",
    "X_combined_std = np.vstack((X_train_std, X_test_std))\n",
    "\n",
    "y_combined = np.hstack((y_train,y_test))\n",
    "\n",
    "plot_decision_regions(X_combined_std,\n",
    "                      y_combined,\n",
    "                      classifier=lr,\n",
    "                      test_idx=range(105,150))\n",
    "\n",
    "plt.xlabel('petal length [standardized]')\n",
    "plt.ylabel('petal width [standardized]')\n",
    "plt.legend(loc = 'upper left')\n",
    "plt.tight_layout()\n",
    "plt.show()"
   ]
  },
  {
   "cell_type": "code",
   "execution_count": null,
   "metadata": {},
   "outputs": [],
   "source": [
    "# SVM\n",
    "\n",
    "from sklearn.svm import SVC\n",
    "\n",
    "svm = SVC(kernel='linear',C=1.0, random_state=1)\n",
    "\n",
    "svm.fit(X_train_std, y_train)\n",
    "\n",
    "plot_decision_regions(X_combined_std, y_combined, classifier = svm,\n",
    "                      test_idx = range(105,150))\n",
    "\n",
    "plt.xlabel('petal length [standardized] ')\n",
    "plt.ylabel('petal width [standardized] ')\n",
    "plt.legend(loc='best')\n",
    "plt.tight_layout()\n",
    "plt.show()"
   ]
  },
  {
   "cell_type": "code",
   "execution_count": null,
   "metadata": {},
   "outputs": [],
   "source": [
    "# Decision tree\n",
    "\n",
    "from sklearn.tree import DecisionTreeClassifier\n",
    "\n",
    "tree_model = DecisionTreeClassifier(criterion='gini',max_depth=4,\n",
    "                                    random_state=1)\n",
    "tree_model.fit(X_train,y_train)\n",
    "X_combined = np.vstack((X_train,X_test))\n",
    "y_combined = np.hstack((y_train, y_test))\n",
    "\n",
    "plot_decision_regions (X_combined, y_combined, classifier = tree_model, test_idx=range(105,150))\n",
    "\n",
    "plt.xlabel('petal length [cm]')\n",
    "plt.ylabel('petal width [cm]')\n",
    "plt.legend(loc='best')\n",
    "plt.tight_layout()\n",
    "plt.show()"
   ]
  },
  {
   "cell_type": "code",
   "execution_count": null,
   "metadata": {},
   "outputs": [],
   "source": [
    "from sklearn.neighbors import KNeighborsClassifier\n",
    "knn = KNeighborsClassifier(n_neighbors=3, p=2, metric='minkowski')\n",
    "\n",
    "knn.fit(X_train_std, y_train)\n",
    "plot_decision_regions(X_combined_std,y_combined,classifier=knn,test_idx=range(105,150))\n",
    "plt.xlabel('petal length [standardized]')\n",
    "plt.ylabel('petal width [standardized]')\n",
    "plt.legend(loc='upper left')\n",
    "plt.tight_layout()\n",
    "\n",
    "ax=plt.gca()\n",
    "ax.set_xlim([-.5,2])\n",
    "ax.set_ylim([-.5,2])\n",
    "plt.show()"
   ]
  }
 ],
 "metadata": {
  "kernelspec": {
   "display_name": "Python 3 (ipykernel)",
   "language": "python",
   "name": "python3"
  },
  "language_info": {
   "codemirror_mode": {
    "name": "ipython",
    "version": 3
   },
   "file_extension": ".py",
   "mimetype": "text/x-python",
   "name": "python",
   "nbconvert_exporter": "python",
   "pygments_lexer": "ipython3",
   "version": "3.11.2"
  }
 },
 "nbformat": 4,
 "nbformat_minor": 2
}
